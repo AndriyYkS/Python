{
  "nbformat": 4,
  "nbformat_minor": 0,
  "metadata": {
    "colab": {
      "name": "Untitled1.ipynb",
      "provenance": []
    },
    "kernelspec": {
      "name": "python3",
      "display_name": "Python 3"
    }
  },
  "cells": [
    {
      "cell_type": "code",
      "metadata": {
        "id": "p2yUc0glJUSe",
        "colab_type": "code",
        "colab": {}
      },
      "source": [
        "# coding=utf-8\n",
        "from keras.models import Sequential\n",
        "from keras.layers import Dense\n",
        "from keras.layers import LSTM"
      ],
      "execution_count": null,
      "outputs": []
    },
    {
      "cell_type": "code",
      "metadata": {
        "id": "cnw9HtSzJnF0",
        "colab_type": "code",
        "colab": {}
      },
      "source": [
        "from utils import look_back_dataset, \\\n",
        "    load_data, \\\n",
        "    normalize, \\\n",
        "    split, \\\n",
        "    reshape, \\\n",
        "    transform, \\\n",
        "    transform_predict, \\\n",
        "    rmse, \\\n",
        "    plot \\"
      ],
      "execution_count": null,
      "outputs": []
    },
    {
      "cell_type": "code",
      "metadata": {
        "id": "83Af8Lo_JpRu",
        "colab_type": "code",
        "colab": {}
      },
      "source": [
        "# spoglądanie wstecz\n",
        "look_back = 10"
      ],
      "execution_count": null,
      "outputs": []
    },
    {
      "cell_type": "code",
      "metadata": {
        "id": "IiigCHtyJruk",
        "colab_type": "code",
        "colab": {}
      },
      "source": [
        "dataset = load_data()\n",
        "# znormalizuj\n",
        "dataset = normalize(dataset)\n",
        "# podziel na dane testowe/treningowe\n",
        "train, test = split(dataset)"
      ],
      "execution_count": null,
      "outputs": []
    },
    {
      "cell_type": "code",
      "metadata": {
        "id": "pQgNt-ymJzIU",
        "colab_type": "code",
        "colab": {}
      },
      "source": [
        "# przekształć spoglądając wstecz\n",
        "trainX, trainY = look_back_dataset(train, look_back)\n",
        "testX, testY = look_back_dataset(test, look_back)"
      ],
      "execution_count": null,
      "outputs": []
    },
    {
      "cell_type": "code",
      "metadata": {
        "id": "ojrtzKJ6J149",
        "colab_type": "code",
        "colab": {}
      },
      "source": [
        "# przekształć żeby pasowało do input shape sięci rekurencyjnej\n",
        "trainX, testX = reshape(trainX=trainX,testX=testX)"
      ],
      "execution_count": null,
      "outputs": []
    },
    {
      "cell_type": "code",
      "metadata": {
        "id": "uLvhnI5MJ4X5",
        "colab_type": "code",
        "colab": {}
      },
      "source": [
        "# zbuduj, skopiluj i przetrenuj RNN\n",
        "model = Sequential()\n",
        "model.add(LSTM(\n",
        "    units=4,\n",
        "    input_shape=(1,look_back)\n",
        "))\n",
        "model.add(Dense(\n",
        "    units=1\n",
        "))"
      ],
      "execution_count": null,
      "outputs": []
    },
    {
      "cell_type": "code",
      "metadata": {
        "id": "clB5BpCQJ68s",
        "colab_type": "code",
        "colab": {}
      },
      "source": [
        "# skompulij\n",
        "model.compile(\n",
        "    loss='mae',  # loss='binary_crossentropy'  loss='mae' loss='mean_squared_error'\n",
        "    optimizer=\"adam\"            # optimizer='adagrad'  optimizer='rmsprop'  optimizer=\"adam\"\n",
        ")"
      ],
      "execution_count": null,
      "outputs": []
    },
    {
      "cell_type": "code",
      "metadata": {
        "id": "NeijVtskJ-2U",
        "colab_type": "code",
        "colab": {
          "base_uri": "https://localhost:8080/",
          "height": 34
        },
        "outputId": "2f570635-e6be-4611-ec30-be3f0d597fa1"
      },
      "source": [
        "# przetrenuj\n",
        "model.fit(\n",
        "    trainX, trainY,\n",
        "    epochs=89,\n",
        "    batch_size=1,\n",
        "    verbose=0\n",
        ")"
      ],
      "execution_count": null,
      "outputs": [
        {
          "output_type": "execute_result",
          "data": {
            "text/plain": [
              "<keras.callbacks.callbacks.History at 0x7f21147b8fd0>"
            ]
          },
          "metadata": {
            "tags": []
          },
          "execution_count": 25
        }
      ]
    },
    {
      "cell_type": "code",
      "metadata": {
        "id": "Tw9OZnPUKEVY",
        "colab_type": "code",
        "colab": {}
      },
      "source": [
        "# przewiduj\n",
        "train_predict = model.predict(trainX)\n",
        "test_predict = model.predict(testX)"
      ],
      "execution_count": null,
      "outputs": []
    },
    {
      "cell_type": "code",
      "metadata": {
        "id": "Oaf0Mer6KG4b",
        "colab_type": "code",
        "colab": {}
      },
      "source": [
        "# transformuj\n",
        "train_predict = transform_predict(train_predict)\n",
        "test_predict = transform_predict(test_predict)\n",
        "trainY = transform(trainY)\n",
        "testY = transform(testY)"
      ],
      "execution_count": null,
      "outputs": []
    },
    {
      "cell_type": "code",
      "metadata": {
        "id": "KoiAhAtkKYJh",
        "colab_type": "code",
        "colab": {
          "base_uri": "https://localhost:8080/",
          "height": 50
        },
        "outputId": "be7fe866-4597-4771-b06a-43b0aca28871"
      },
      "source": [
        "# oblicz pierwiastek błędu sredniokwadratowego dla danych treningowych i testowych\n",
        "# rzeczywiste Y a prewidywane Y\n",
        "train_score = rmse(trainY, train_predict)\n",
        "test_score = rmse(testY, test_predict)\n",
        "print('Train Score: %.2f RMSE' % (train_score))\n",
        "print('Test Score: %.2f RMSE' % (test_score))"
      ],
      "execution_count": null,
      "outputs": [
        {
          "output_type": "stream",
          "text": [
            "Train Score: 22.90 RMSE\n",
            "Test Score: 61.60 RMSE\n"
          ],
          "name": "stdout"
        }
      ]
    },
    {
      "cell_type": "code",
      "metadata": {
        "id": "yRL84KxRKcUi",
        "colab_type": "code",
        "colab": {
          "base_uri": "https://localhost:8080/",
          "height": 265
        },
        "outputId": "78bd4402-f986-4ae8-f36a-b14353fc9a9e"
      },
      "source": [
        "# narysuj wykres\n",
        "plot(dataset,train_predict,test_predict,look_back)"
      ],
      "execution_count": null,
      "outputs": [
        {
          "output_type": "display_data",
          "data": {
            "image/png": "[encoded data removed]",
            "text/plain": [
              "<Figure size 432x288 with 1 Axes>"
            ]
          },
          "metadata": {
            "tags": [],
            "needs_background": "light"
          }
        }
      ]
    },
    {
      "cell_type": "code",
      "metadata": {
        "id": "BSm93QS1KhpT",
        "colab_type": "code",
        "colab": {
          "base_uri": "https://localhost:8080/",
          "height": 218
        },
        "outputId": "4eb81cac-2e95-4e8f-8d88-11ba2d6a362f"
      },
      "source": [
        "# podsumowanie modelu\n",
        "model.summary()"
      ],
      "execution_count": null,
      "outputs": [
        {
          "output_type": "stream",
          "text": [
            "Model: \"sequential_2\"\n",
            "_________________________________________________________________\n",
            "Layer (type)                 Output Shape              Param #   \n",
            "=================================================================\n",
            "lstm_2 (LSTM)                (None, 4)                 240       \n",
            "_________________________________________________________________\n",
            "dense_2 (Dense)              (None, 1)                 5         \n",
            "=================================================================\n",
            "Total params: 245\n",
            "Trainable params: 245\n",
            "Non-trainable params: 0\n",
            "_________________________________________________________________\n"
          ],
          "name": "stdout"
        }
      ]
    }
  ]
}